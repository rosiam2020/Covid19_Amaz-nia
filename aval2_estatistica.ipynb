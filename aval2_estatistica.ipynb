{
  "nbformat": 4,
  "nbformat_minor": 0,
  "metadata": {
    "colab": {
      "provenance": [],
      "collapsed_sections": [],
      "authorship_tag": "ABX9TyOubFY8sVTE5thqZIfU1a4A",
      "include_colab_link": true
    },
    "kernelspec": {
      "name": "python3",
      "display_name": "Python 3"
    },
    "language_info": {
      "name": "python"
    }
  },
  "cells": [
    {
      "cell_type": "markdown",
      "metadata": {
        "id": "view-in-github",
        "colab_type": "text"
      },
      "source": [
        "<a href=\"https://colab.research.google.com/github/rosiam2020/Covid19_Amaz-nia/blob/main/aval2_estatistica.ipynb\" target=\"_parent\"><img src=\"https://colab.research.google.com/assets/colab-badge.svg\" alt=\"Open In Colab\"/></a>"
      ]
    },
    {
      "cell_type": "code",
      "source": [
        "#)1)  Classificar as variáveis do dataset CARROS\n",
        "#2) Estimar se as variáveis apresentam distribuição semelhante à Normal\n",
        "#2a) Caso não apresentem tente transformar os dados utilizando a transformação mais adequada\n",
        "#2b) caso não seja possivel continue a análise de forma adequada\n",
        "#3) Com base na resposta utilizar a Análise de Correlação adequada\n",
        "#4) Selecionar as variáveis que apresentam as correlações (+ e -) mais fortes: Justificar a escolha dessas variáveis\n",
        "#4a) Realizar regressão linear para essas variáveis\n",
        "#4b) Gerar gráfico de regressão ( com linha de tendência, se possível)\n",
        "#4c) Determinar os valores de R2 ( r-quadrado) e do valor de p\n",
        "#4d) Interpretar o grau de predição dos modelos lineares gerados com base no comportamento da variável dependente em função da variável independente."
      ],
      "metadata": {
        "id": "uLeioZB3GjNJ"
      },
      "execution_count": null,
      "outputs": []
    },
    {
      "cell_type": "code",
      "metadata": {
        "id": "yI5X29kf7WXD"
      },
      "source": [
        "import pandas as pd\n",
        "import numpy as np\n",
        "import matplotlib.pylab as plb\n",
        "import statsmodels.api as sm\n",
        "from statsmodels.formula.api import ols\n",
        "import seaborn as sns\n",
        "from statsmodels.graphics.gofplots import ProbPlot\n",
        "plb.style.use('seaborn')\n",
        "plb.rc('axes', titlesize=10) \n"
      ],
      "execution_count": null,
      "outputs": []
    },
    {
      "cell_type": "code",
      "metadata": {
        "colab": {
          "base_uri": "https://localhost:8080/",
          "height": 206
        },
        "id": "P8BC7dWp_pMo",
        "outputId": "272a76cb-da78-4b6d-f85f-b4a021c1e461"
      },
      "source": [
        "aval2 = pd.read_excel ('aval2.xlsx')\n",
        "aval2.head ()"
      ],
      "execution_count": null,
      "outputs": [
        {
          "output_type": "execute_result",
          "data": {
            "text/plain": [
              "                Car  Model Origin   MPG  Cilindros  Cilindradas  \\\n",
              "0          Hi 1200D     70     US   9.0          8        304.0   \n",
              "1         Chevy C20     70     US  10.0          8        307.0   \n",
              "2         Ford F250     70     US  10.0          8        360.0   \n",
              "3  Chevrolet Impala     73     US  11.0          8        400.0   \n",
              "4        Dodge D200     70     US  11.0          8        318.0   \n",
              "\n",
              "   Cavalos (potência)  Peso  Aceleração  \n",
              "0                 193  4732        18.5  \n",
              "1                 200  4376        15.0  \n",
              "2                 215  4615        14.0  \n",
              "3                 150  4997        14.0  \n",
              "4                 210  4382        13.5  "
            ],
            "text/html": [
              "\n",
              "  <div id=\"df-0d6e6310-af06-417c-9235-e6d1d5e5700a\">\n",
              "    <div class=\"colab-df-container\">\n",
              "      <div>\n",
              "<style scoped>\n",
              "    .dataframe tbody tr th:only-of-type {\n",
              "        vertical-align: middle;\n",
              "    }\n",
              "\n",
              "    .dataframe tbody tr th {\n",
              "        vertical-align: top;\n",
              "    }\n",
              "\n",
              "    .dataframe thead th {\n",
              "        text-align: right;\n",
              "    }\n",
              "</style>\n",
              "<table border=\"1\" class=\"dataframe\">\n",
              "  <thead>\n",
              "    <tr style=\"text-align: right;\">\n",
              "      <th></th>\n",
              "      <th>Car</th>\n",
              "      <th>Model</th>\n",
              "      <th>Origin</th>\n",
              "      <th>MPG</th>\n",
              "      <th>Cilindros</th>\n",
              "      <th>Cilindradas</th>\n",
              "      <th>Cavalos (potência)</th>\n",
              "      <th>Peso</th>\n",
              "      <th>Aceleração</th>\n",
              "    </tr>\n",
              "  </thead>\n",
              "  <tbody>\n",
              "    <tr>\n",
              "      <th>0</th>\n",
              "      <td>Hi 1200D</td>\n",
              "      <td>70</td>\n",
              "      <td>US</td>\n",
              "      <td>9.0</td>\n",
              "      <td>8</td>\n",
              "      <td>304.0</td>\n",
              "      <td>193</td>\n",
              "      <td>4732</td>\n",
              "      <td>18.5</td>\n",
              "    </tr>\n",
              "    <tr>\n",
              "      <th>1</th>\n",
              "      <td>Chevy C20</td>\n",
              "      <td>70</td>\n",
              "      <td>US</td>\n",
              "      <td>10.0</td>\n",
              "      <td>8</td>\n",
              "      <td>307.0</td>\n",
              "      <td>200</td>\n",
              "      <td>4376</td>\n",
              "      <td>15.0</td>\n",
              "    </tr>\n",
              "    <tr>\n",
              "      <th>2</th>\n",
              "      <td>Ford F250</td>\n",
              "      <td>70</td>\n",
              "      <td>US</td>\n",
              "      <td>10.0</td>\n",
              "      <td>8</td>\n",
              "      <td>360.0</td>\n",
              "      <td>215</td>\n",
              "      <td>4615</td>\n",
              "      <td>14.0</td>\n",
              "    </tr>\n",
              "    <tr>\n",
              "      <th>3</th>\n",
              "      <td>Chevrolet Impala</td>\n",
              "      <td>73</td>\n",
              "      <td>US</td>\n",
              "      <td>11.0</td>\n",
              "      <td>8</td>\n",
              "      <td>400.0</td>\n",
              "      <td>150</td>\n",
              "      <td>4997</td>\n",
              "      <td>14.0</td>\n",
              "    </tr>\n",
              "    <tr>\n",
              "      <th>4</th>\n",
              "      <td>Dodge D200</td>\n",
              "      <td>70</td>\n",
              "      <td>US</td>\n",
              "      <td>11.0</td>\n",
              "      <td>8</td>\n",
              "      <td>318.0</td>\n",
              "      <td>210</td>\n",
              "      <td>4382</td>\n",
              "      <td>13.5</td>\n",
              "    </tr>\n",
              "  </tbody>\n",
              "</table>\n",
              "</div>\n",
              "      <button class=\"colab-df-convert\" onclick=\"convertToInteractive('df-0d6e6310-af06-417c-9235-e6d1d5e5700a')\"\n",
              "              title=\"Convert this dataframe to an interactive table.\"\n",
              "              style=\"display:none;\">\n",
              "        \n",
              "  <svg xmlns=\"http://www.w3.org/2000/svg\" height=\"24px\"viewBox=\"0 0 24 24\"\n",
              "       width=\"24px\">\n",
              "    <path d=\"M0 0h24v24H0V0z\" fill=\"none\"/>\n",
              "    <path d=\"M18.56 5.44l.94 2.06.94-2.06 2.06-.94-2.06-.94-.94-2.06-.94 2.06-2.06.94zm-11 1L8.5 8.5l.94-2.06 2.06-.94-2.06-.94L8.5 2.5l-.94 2.06-2.06.94zm10 10l.94 2.06.94-2.06 2.06-.94-2.06-.94-.94-2.06-.94 2.06-2.06.94z\"/><path d=\"M17.41 7.96l-1.37-1.37c-.4-.4-.92-.59-1.43-.59-.52 0-1.04.2-1.43.59L10.3 9.45l-7.72 7.72c-.78.78-.78 2.05 0 2.83L4 21.41c.39.39.9.59 1.41.59.51 0 1.02-.2 1.41-.59l7.78-7.78 2.81-2.81c.8-.78.8-2.07 0-2.86zM5.41 20L4 18.59l7.72-7.72 1.47 1.35L5.41 20z\"/>\n",
              "  </svg>\n",
              "      </button>\n",
              "      \n",
              "  <style>\n",
              "    .colab-df-container {\n",
              "      display:flex;\n",
              "      flex-wrap:wrap;\n",
              "      gap: 12px;\n",
              "    }\n",
              "\n",
              "    .colab-df-convert {\n",
              "      background-color: #E8F0FE;\n",
              "      border: none;\n",
              "      border-radius: 50%;\n",
              "      cursor: pointer;\n",
              "      display: none;\n",
              "      fill: #1967D2;\n",
              "      height: 32px;\n",
              "      padding: 0 0 0 0;\n",
              "      width: 32px;\n",
              "    }\n",
              "\n",
              "    .colab-df-convert:hover {\n",
              "      background-color: #E2EBFA;\n",
              "      box-shadow: 0px 1px 2px rgba(60, 64, 67, 0.3), 0px 1px 3px 1px rgba(60, 64, 67, 0.15);\n",
              "      fill: #174EA6;\n",
              "    }\n",
              "\n",
              "    [theme=dark] .colab-df-convert {\n",
              "      background-color: #3B4455;\n",
              "      fill: #D2E3FC;\n",
              "    }\n",
              "\n",
              "    [theme=dark] .colab-df-convert:hover {\n",
              "      background-color: #434B5C;\n",
              "      box-shadow: 0px 1px 3px 1px rgba(0, 0, 0, 0.15);\n",
              "      filter: drop-shadow(0px 1px 2px rgba(0, 0, 0, 0.3));\n",
              "      fill: #FFFFFF;\n",
              "    }\n",
              "  </style>\n",
              "\n",
              "      <script>\n",
              "        const buttonEl =\n",
              "          document.querySelector('#df-0d6e6310-af06-417c-9235-e6d1d5e5700a button.colab-df-convert');\n",
              "        buttonEl.style.display =\n",
              "          google.colab.kernel.accessAllowed ? 'block' : 'none';\n",
              "\n",
              "        async function convertToInteractive(key) {\n",
              "          const element = document.querySelector('#df-0d6e6310-af06-417c-9235-e6d1d5e5700a');\n",
              "          const dataTable =\n",
              "            await google.colab.kernel.invokeFunction('convertToInteractive',\n",
              "                                                     [key], {});\n",
              "          if (!dataTable) return;\n",
              "\n",
              "          const docLinkHtml = 'Like what you see? Visit the ' +\n",
              "            '<a target=\"_blank\" href=https://colab.research.google.com/notebooks/data_table.ipynb>data table notebook</a>'\n",
              "            + ' to learn more about interactive tables.';\n",
              "          element.innerHTML = '';\n",
              "          dataTable['output_type'] = 'display_data';\n",
              "          await google.colab.output.renderOutput(dataTable, element);\n",
              "          const docLink = document.createElement('div');\n",
              "          docLink.innerHTML = docLinkHtml;\n",
              "          element.appendChild(docLink);\n",
              "        }\n",
              "      </script>\n",
              "    </div>\n",
              "  </div>\n",
              "  "
            ]
          },
          "metadata": {},
          "execution_count": 3
        }
      ]
    },
    {
      "cell_type": "code",
      "source": [
        "#1. Classificar as variáveis do dataset CARROS\n",
        "#Uma boa forma de iniciar uma análise descritiva adequada é verificar os tipos de de variáveis disponíveis. Variáveis podem ser classificadas da seguinte forma:\n",
        "\n",
        "#Qualitativas  (Nominais ou Ordinais)\n",
        "#Quantitativas (Discretas ou Contínuas)\n",
        "\n",
        "#Resposta:\n",
        "#Car - qualitativa nominal\n",
        "#Model\t - qualitativa nominal\n",
        "#Origin\t- qualitativa nominal\n",
        "#MPG\t- quantitativa discreta\n",
        "#Cilindros\t- quatitativa discreta\n",
        "#Cilindradas- quantitativa contínua\n",
        "#Cavalos (potência)\t - quantitativa discreta\n",
        "#Peso\t- quantitativa contínua\n",
        "#Aceleração - quantitativa discreta\n",
        "\n"
      ],
      "metadata": {
        "id": "Bw3rhfhyJ4Nq"
      },
      "execution_count": null,
      "outputs": []
    },
    {
      "cell_type": "code",
      "source": [
        "#2) Estimar se as variáveis apresentam distribuição semelhante à Normal\n",
        "#RESPOSTA: SOMENTE AS VARIÁVEIS CILINDROS E ACELERAÇÃO ( gRÁFICOS A SEGUIR)"
      ],
      "metadata": {
        "id": "Di7PYYWQaah5"
      },
      "execution_count": null,
      "outputs": []
    },
    {
      "cell_type": "code",
      "source": [
        "print(\"Estatísticas descritivas\")\n",
        "aval2.describe()"
      ],
      "metadata": {
        "colab": {
          "base_uri": "https://localhost:8080/",
          "height": 318
        },
        "id": "2gBOtzkUP1d5",
        "outputId": "0230fc0b-a4b9-4248-b2b2-bcbde9aad786"
      },
      "execution_count": null,
      "outputs": [
        {
          "output_type": "stream",
          "name": "stdout",
          "text": [
            "Estatísticas descritivas\n"
          ]
        },
        {
          "output_type": "execute_result",
          "data": {
            "text/plain": [
              "            Model         MPG   Cilindros  Cilindradas  Cavalos (potência)  \\\n",
              "count  392.000000  392.000000  392.000000   392.000000          392.000000   \n",
              "mean    75.979592   23.445918    5.471939   194.411990          104.469388   \n",
              "std      3.683737    7.805007    1.705783   104.644004           38.491160   \n",
              "min     70.000000    9.000000    3.000000    68.000000           46.000000   \n",
              "25%     73.000000   17.000000    4.000000   105.000000           75.000000   \n",
              "50%     76.000000   22.750000    4.000000   151.000000           93.500000   \n",
              "75%     79.000000   29.000000    8.000000   275.750000          126.000000   \n",
              "max     82.000000   46.600000    8.000000   455.000000          230.000000   \n",
              "\n",
              "              Peso  Aceleração  \n",
              "count   392.000000  392.000000  \n",
              "mean   2977.584184   15.541327  \n",
              "std     849.402560    2.758864  \n",
              "min    1613.000000    8.000000  \n",
              "25%    2225.250000   13.775000  \n",
              "50%    2803.500000   15.500000  \n",
              "75%    3614.750000   17.025000  \n",
              "max    5140.000000   24.800000  "
            ],
            "text/html": [
              "\n",
              "  <div id=\"df-9693a4a4-8453-452d-b3ad-eaa0f06ffacf\">\n",
              "    <div class=\"colab-df-container\">\n",
              "      <div>\n",
              "<style scoped>\n",
              "    .dataframe tbody tr th:only-of-type {\n",
              "        vertical-align: middle;\n",
              "    }\n",
              "\n",
              "    .dataframe tbody tr th {\n",
              "        vertical-align: top;\n",
              "    }\n",
              "\n",
              "    .dataframe thead th {\n",
              "        text-align: right;\n",
              "    }\n",
              "</style>\n",
              "<table border=\"1\" class=\"dataframe\">\n",
              "  <thead>\n",
              "    <tr style=\"text-align: right;\">\n",
              "      <th></th>\n",
              "      <th>Model</th>\n",
              "      <th>MPG</th>\n",
              "      <th>Cilindros</th>\n",
              "      <th>Cilindradas</th>\n",
              "      <th>Cavalos (potência)</th>\n",
              "      <th>Peso</th>\n",
              "      <th>Aceleração</th>\n",
              "    </tr>\n",
              "  </thead>\n",
              "  <tbody>\n",
              "    <tr>\n",
              "      <th>count</th>\n",
              "      <td>392.000000</td>\n",
              "      <td>392.000000</td>\n",
              "      <td>392.000000</td>\n",
              "      <td>392.000000</td>\n",
              "      <td>392.000000</td>\n",
              "      <td>392.000000</td>\n",
              "      <td>392.000000</td>\n",
              "    </tr>\n",
              "    <tr>\n",
              "      <th>mean</th>\n",
              "      <td>75.979592</td>\n",
              "      <td>23.445918</td>\n",
              "      <td>5.471939</td>\n",
              "      <td>194.411990</td>\n",
              "      <td>104.469388</td>\n",
              "      <td>2977.584184</td>\n",
              "      <td>15.541327</td>\n",
              "    </tr>\n",
              "    <tr>\n",
              "      <th>std</th>\n",
              "      <td>3.683737</td>\n",
              "      <td>7.805007</td>\n",
              "      <td>1.705783</td>\n",
              "      <td>104.644004</td>\n",
              "      <td>38.491160</td>\n",
              "      <td>849.402560</td>\n",
              "      <td>2.758864</td>\n",
              "    </tr>\n",
              "    <tr>\n",
              "      <th>min</th>\n",
              "      <td>70.000000</td>\n",
              "      <td>9.000000</td>\n",
              "      <td>3.000000</td>\n",
              "      <td>68.000000</td>\n",
              "      <td>46.000000</td>\n",
              "      <td>1613.000000</td>\n",
              "      <td>8.000000</td>\n",
              "    </tr>\n",
              "    <tr>\n",
              "      <th>25%</th>\n",
              "      <td>73.000000</td>\n",
              "      <td>17.000000</td>\n",
              "      <td>4.000000</td>\n",
              "      <td>105.000000</td>\n",
              "      <td>75.000000</td>\n",
              "      <td>2225.250000</td>\n",
              "      <td>13.775000</td>\n",
              "    </tr>\n",
              "    <tr>\n",
              "      <th>50%</th>\n",
              "      <td>76.000000</td>\n",
              "      <td>22.750000</td>\n",
              "      <td>4.000000</td>\n",
              "      <td>151.000000</td>\n",
              "      <td>93.500000</td>\n",
              "      <td>2803.500000</td>\n",
              "      <td>15.500000</td>\n",
              "    </tr>\n",
              "    <tr>\n",
              "      <th>75%</th>\n",
              "      <td>79.000000</td>\n",
              "      <td>29.000000</td>\n",
              "      <td>8.000000</td>\n",
              "      <td>275.750000</td>\n",
              "      <td>126.000000</td>\n",
              "      <td>3614.750000</td>\n",
              "      <td>17.025000</td>\n",
              "    </tr>\n",
              "    <tr>\n",
              "      <th>max</th>\n",
              "      <td>82.000000</td>\n",
              "      <td>46.600000</td>\n",
              "      <td>8.000000</td>\n",
              "      <td>455.000000</td>\n",
              "      <td>230.000000</td>\n",
              "      <td>5140.000000</td>\n",
              "      <td>24.800000</td>\n",
              "    </tr>\n",
              "  </tbody>\n",
              "</table>\n",
              "</div>\n",
              "      <button class=\"colab-df-convert\" onclick=\"convertToInteractive('df-9693a4a4-8453-452d-b3ad-eaa0f06ffacf')\"\n",
              "              title=\"Convert this dataframe to an interactive table.\"\n",
              "              style=\"display:none;\">\n",
              "        \n",
              "  <svg xmlns=\"http://www.w3.org/2000/svg\" height=\"24px\"viewBox=\"0 0 24 24\"\n",
              "       width=\"24px\">\n",
              "    <path d=\"M0 0h24v24H0V0z\" fill=\"none\"/>\n",
              "    <path d=\"M18.56 5.44l.94 2.06.94-2.06 2.06-.94-2.06-.94-.94-2.06-.94 2.06-2.06.94zm-11 1L8.5 8.5l.94-2.06 2.06-.94-2.06-.94L8.5 2.5l-.94 2.06-2.06.94zm10 10l.94 2.06.94-2.06 2.06-.94-2.06-.94-.94-2.06-.94 2.06-2.06.94z\"/><path d=\"M17.41 7.96l-1.37-1.37c-.4-.4-.92-.59-1.43-.59-.52 0-1.04.2-1.43.59L10.3 9.45l-7.72 7.72c-.78.78-.78 2.05 0 2.83L4 21.41c.39.39.9.59 1.41.59.51 0 1.02-.2 1.41-.59l7.78-7.78 2.81-2.81c.8-.78.8-2.07 0-2.86zM5.41 20L4 18.59l7.72-7.72 1.47 1.35L5.41 20z\"/>\n",
              "  </svg>\n",
              "      </button>\n",
              "      \n",
              "  <style>\n",
              "    .colab-df-container {\n",
              "      display:flex;\n",
              "      flex-wrap:wrap;\n",
              "      gap: 12px;\n",
              "    }\n",
              "\n",
              "    .colab-df-convert {\n",
              "      background-color: #E8F0FE;\n",
              "      border: none;\n",
              "      border-radius: 50%;\n",
              "      cursor: pointer;\n",
              "      display: none;\n",
              "      fill: #1967D2;\n",
              "      height: 32px;\n",
              "      padding: 0 0 0 0;\n",
              "      width: 32px;\n",
              "    }\n",
              "\n",
              "    .colab-df-convert:hover {\n",
              "      background-color: #E2EBFA;\n",
              "      box-shadow: 0px 1px 2px rgba(60, 64, 67, 0.3), 0px 1px 3px 1px rgba(60, 64, 67, 0.15);\n",
              "      fill: #174EA6;\n",
              "    }\n",
              "\n",
              "    [theme=dark] .colab-df-convert {\n",
              "      background-color: #3B4455;\n",
              "      fill: #D2E3FC;\n",
              "    }\n",
              "\n",
              "    [theme=dark] .colab-df-convert:hover {\n",
              "      background-color: #434B5C;\n",
              "      box-shadow: 0px 1px 3px 1px rgba(0, 0, 0, 0.15);\n",
              "      filter: drop-shadow(0px 1px 2px rgba(0, 0, 0, 0.3));\n",
              "      fill: #FFFFFF;\n",
              "    }\n",
              "  </style>\n",
              "\n",
              "      <script>\n",
              "        const buttonEl =\n",
              "          document.querySelector('#df-9693a4a4-8453-452d-b3ad-eaa0f06ffacf button.colab-df-convert');\n",
              "        buttonEl.style.display =\n",
              "          google.colab.kernel.accessAllowed ? 'block' : 'none';\n",
              "\n",
              "        async function convertToInteractive(key) {\n",
              "          const element = document.querySelector('#df-9693a4a4-8453-452d-b3ad-eaa0f06ffacf');\n",
              "          const dataTable =\n",
              "            await google.colab.kernel.invokeFunction('convertToInteractive',\n",
              "                                                     [key], {});\n",
              "          if (!dataTable) return;\n",
              "\n",
              "          const docLinkHtml = 'Like what you see? Visit the ' +\n",
              "            '<a target=\"_blank\" href=https://colab.research.google.com/notebooks/data_table.ipynb>data table notebook</a>'\n",
              "            + ' to learn more about interactive tables.';\n",
              "          element.innerHTML = '';\n",
              "          dataTable['output_type'] = 'display_data';\n",
              "          await google.colab.output.renderOutput(dataTable, element);\n",
              "          const docLink = document.createElement('div');\n",
              "          docLink.innerHTML = docLinkHtml;\n",
              "          element.appendChild(docLink);\n",
              "        }\n",
              "      </script>\n",
              "    </div>\n",
              "  </div>\n",
              "  "
            ]
          },
          "metadata": {},
          "execution_count": 4
        }
      ]
    },
    {
      "cell_type": "code",
      "source": [
        "import numpy as np\n",
        "import matplotlib.pyplot as plt\n",
        "import seaborn as sns\n",
        "import math"
      ],
      "metadata": {
        "id": "0ayPhJVzTZ8H"
      },
      "execution_count": null,
      "outputs": []
    },
    {
      "cell_type": "code",
      "source": [
        "meanCili=5.471939\n",
        "meanCilin2=194.411990\t\n",
        "meanCav=104.469388\t\n",
        "meanpeso=2977.584184\n",
        "meanacel=5.541327\n",
        "sigma1 = 0.2\n",
        "sigma2 = 0.5\n",
        "sigma3 = 0.8\n",
        "x = np.linspace(0,10,100)"
      ],
      "metadata": {
        "id": "sW2llDWDSiVT"
      },
      "execution_count": null,
      "outputs": []
    },
    {
      "cell_type": "code",
      "source": [
        "f1 = (1.0/(sigma1*np.sqrt(2.0*math.pi)))*np.exp(-0.5*((x-meanCili)/sigma1)**2.0)\n",
        "f2 = (1.0/(sigma2*np.sqrt(2.0*math.pi)))*np.exp(-0.5*((x-meanCili)/sigma2)**2.0)\n",
        "f3 = (1.0/(sigma3*np.sqrt(2.0*math.pi)))*np.exp(-0.5*((x-meanCili)/sigma3)**2.0)"
      ],
      "metadata": {
        "id": "VWlXgvTWTFlQ"
      },
      "execution_count": null,
      "outputs": []
    },
    {
      "cell_type": "code",
      "source": [
        "plt.plot(x,f1,label=r'$\\sigma$='+str(sigma1))\n",
        "plt.plot(x,f2,label=r'$\\sigma$='+str(sigma2))\n",
        "plt.plot(x,f3,label=r'$\\sigma$='+str(sigma3))\n",
        "plt.xlabel('x  cilindros')\n",
        "plt.ylabel('f(x)')\n",
        "plt.legend()\n",
        "plt.tight_layout()"
      ],
      "metadata": {
        "colab": {
          "base_uri": "https://localhost:8080/",
          "height": 405
        },
        "id": "V5Y4w2rWR85G",
        "outputId": "f2d1e47b-a3cf-4b14-f7aa-e198fce6c8e3"
      },
      "execution_count": null,
      "outputs": [
        {
          "output_type": "display_data",
          "data": {
            "text/plain": [
              "<Figure size 576x396 with 1 Axes>"
            ],
            "image/png": "[encoded data removed]"
          },
          "metadata": {}
        }
      ]
    },
    {
      "cell_type": "code",
      "source": [
        "f1 = (1.0/(sigma1*np.sqrt(2.0*math.pi)))*np.exp(-0.5*((x-meanCilin2)/sigma1)**2.0)\n",
        "f2 = (1.0/(sigma2*np.sqrt(2.0*math.pi)))*np.exp(-0.5*((x-meanCilin2)/sigma2)**2.0)\n",
        "f3 = (1.0/(sigma3*np.sqrt(2.0*math.pi)))*np.exp(-0.5*((x-meanCilin2)/sigma3)**2.0)"
      ],
      "metadata": {
        "id": "7rro8dxbRtAO"
      },
      "execution_count": null,
      "outputs": []
    },
    {
      "cell_type": "code",
      "source": [
        "plt.plot(x,f1,label=r'$\\sigma$='+str(sigma1))\n",
        "plt.plot(x,f2,label=r'$\\sigma$='+str(sigma2))\n",
        "plt.plot(x,f3,label=r'$\\sigma$='+str(sigma3))\n",
        "plt.xlabel('x CILINDRADAS')\n",
        "plt.ylabel('f(x)')\n",
        "plt.legend()\n",
        "plt.tight_layout()"
      ],
      "metadata": {
        "colab": {
          "base_uri": "https://localhost:8080/",
          "height": 405
        },
        "id": "rvL9N11DP1qb",
        "outputId": "fffdd8f9-45f9-4252-9b55-c1c6e4a6965e"
      },
      "execution_count": null,
      "outputs": [
        {
          "output_type": "display_data",
          "data": {
            "text/plain": [
              "<Figure size 576x396 with 1 Axes>"
            ],
            "image/png": "[encoded data removed]"
          },
          "metadata": {}
        }
      ]
    },
    {
      "cell_type": "code",
      "source": [
        "f1 = (1.0/(sigma1*np.sqrt(2.0*math.pi)))*np.exp(-0.5*((x-meanCav)/sigma1)**2.0)\n",
        "f2 = (1.0/(sigma2*np.sqrt(2.0*math.pi)))*np.exp(-0.5*((x-meanCav)/sigma2)**2.0)\n",
        "f3 = (1.0/(sigma3*np.sqrt(2.0*math.pi)))*np.exp(-0.5*((x-meanCav)/sigma3)**2.0)"
      ],
      "metadata": {
        "id": "ufsQ7kX8P1vQ"
      },
      "execution_count": null,
      "outputs": []
    },
    {
      "cell_type": "code",
      "source": [
        "plt.plot(x,f1,label=r'$\\sigma$='+str(sigma1))\n",
        "plt.plot(x,f2,label=r'$\\sigma$='+str(sigma2))\n",
        "plt.plot(x,f3,label=r'$\\sigma$='+str(sigma3))\n",
        "plt.xlabel('x CAVALOS')\n",
        "plt.ylabel('f(x)')\n",
        "plt.legend()\n",
        "plt.tight_layout()"
      ],
      "metadata": {
        "colab": {
          "base_uri": "https://localhost:8080/",
          "height": 405
        },
        "id": "5M7cxdX8Y0el",
        "outputId": "40295db1-ba50-4152-e538-4c807a7003b8"
      },
      "execution_count": null,
      "outputs": [
        {
          "output_type": "display_data",
          "data": {
            "text/plain": [
              "<Figure size 576x396 with 1 Axes>"
            ],
            "image/png": "[encoded data removed]"
          },
          "metadata": {}
        }
      ]
    },
    {
      "cell_type": "code",
      "source": [
        "f1 = (1.0/(sigma1*np.sqrt(2.0*math.pi)))*np.exp(-0.5*((x-meanpeso)/sigma1)**2.0)\n",
        "f2 = (1.0/(sigma2*np.sqrt(2.0*math.pi)))*np.exp(-0.5*((x-meanpeso)/sigma2)**2.0)\n",
        "f3 = (1.0/(sigma3*np.sqrt(2.0*math.pi)))*np.exp(-0.5*((x-meanpeso)/sigma3)**2.0)"
      ],
      "metadata": {
        "id": "MZQ4PcEzY-_g"
      },
      "execution_count": null,
      "outputs": []
    },
    {
      "cell_type": "code",
      "source": [
        "plt.plot(x,f1,label=r'$\\sigma$='+str(sigma1))\n",
        "plt.plot(x,f2,label=r'$\\sigma$='+str(sigma2))\n",
        "plt.plot(x,f3,label=r'$\\sigma$='+str(sigma3))\n",
        "plt.xlabel('x PESO')\n",
        "plt.ylabel('f(x)')\n",
        "plt.legend()\n",
        "plt.tight_layout()"
      ],
      "metadata": {
        "colab": {
          "base_uri": "https://localhost:8080/",
          "height": 405
        },
        "id": "hc1A-vYmY_C9",
        "outputId": "a71a95f6-6980-4692-a03e-f368ce478ec4"
      },
      "execution_count": null,
      "outputs": [
        {
          "output_type": "display_data",
          "data": {
            "text/plain": [
              "<Figure size 576x396 with 1 Axes>"
            ],
            "image/png": "[encoded data removed]"
          },
          "metadata": {}
        }
      ]
    },
    {
      "cell_type": "code",
      "source": [
        "f1 = (1.0/(sigma1*np.sqrt(2.0*math.pi)))*np.exp(-0.5*((x-meanacel)/sigma1)**2.0)\n",
        "f2 = (1.0/(sigma2*np.sqrt(2.0*math.pi)))*np.exp(-0.5*((x-meanacel)/sigma2)**2.0)\n",
        "f3 = (1.0/(sigma3*np.sqrt(2.0*math.pi)))*np.exp(-0.5*((x-meanacel)/sigma3)**2.0)"
      ],
      "metadata": {
        "id": "y-zT1ivnY_Ja"
      },
      "execution_count": null,
      "outputs": []
    },
    {
      "cell_type": "code",
      "source": [
        "plt.plot(x,f1,label=r'$\\sigma$='+str(sigma1))\n",
        "plt.plot(x,f2,label=r'$\\sigma$='+str(sigma2))\n",
        "plt.plot(x,f3,label=r'$\\sigma$='+str(sigma3))\n",
        "plt.xlabel('x ACELERAÇÃO')\n",
        "plt.ylabel('f(x)')\n",
        "plt.legend()\n",
        "plt.tight_layout()"
      ],
      "metadata": {
        "colab": {
          "base_uri": "https://localhost:8080/",
          "height": 405
        },
        "id": "akUmkZDTZZeW",
        "outputId": "a8d63b0e-d8bd-4608-df5c-2001dbb7648c"
      },
      "execution_count": null,
      "outputs": [
        {
          "output_type": "display_data",
          "data": {
            "text/plain": [
              "<Figure size 576x396 with 1 Axes>"
            ],
            "image/png": "[encoded data removed]"
          },
          "metadata": {}
        }
      ]
    },
    {
      "cell_type": "code",
      "source": [
        "##Com base na resposta utilizar a Análise de Correlação adequada\n",
        "#4) Selecionar as variáveis que apresentam as correlações (+ e -) mais fortes: Justificar a escolha dessas variáveis\n",
        "#Resposta: O peso se correlaciona bem com  as variáveis Cilindros, Cilindradas e Cavalos(Potência)\n",
        "#Matriz de correlação a seguir"
      ],
      "metadata": {
        "id": "11zftOsOb_Fz"
      },
      "execution_count": null,
      "outputs": []
    },
    {
      "cell_type": "code",
      "source": [
        "corr_df = aval2.corr(method='pearson')\n",
        "\n",
        "corr_df.style.background_gradient(cmap='coolwarm')"
      ],
      "metadata": {
        "id": "s64rQXFEQeXB",
        "colab": {
          "base_uri": "https://localhost:8080/",
          "height": 269
        },
        "outputId": "dfc9cb81-bdd3-4497-d047-4a736941a22b"
      },
      "execution_count": null,
      "outputs": [
        {
          "output_type": "execute_result",
          "data": {
            "text/plain": [
              "<pandas.io.formats.style.Styler at 0x7fb5c4242ed0>"
            ],
            "text/html": [
              "<style type=\"text/css\">\n",
              "#T_8b8a7_row0_col0, #T_8b8a7_row1_col1, #T_8b8a7_row2_col2, #T_8b8a7_row3_col3, #T_8b8a7_row4_col4, #T_8b8a7_row5_col5, #T_8b8a7_row6_col6 {\n",
              "  background-color: #b40426;\n",
              "  color: #f1f1f1;\n",
              "}\n",
              "#T_8b8a7_row0_col1 {\n",
              "  background-color: #f29072;\n",
              "  color: #f1f1f1;\n",
              "}\n",
              "#T_8b8a7_row0_col2 {\n",
              "  background-color: #8badfd;\n",
              "  color: #000000;\n",
              "}\n",
              "#T_8b8a7_row0_col3 {\n",
              "  background-color: #89acfd;\n",
              "  color: #000000;\n",
              "}\n",
              "#T_8b8a7_row0_col4 {\n",
              "  background-color: #7da0f9;\n",
              "  color: #f1f1f1;\n",
              "}\n",
              "#T_8b8a7_row0_col5 {\n",
              "  background-color: #9abbff;\n",
              "  color: #000000;\n",
              "}\n",
              "#T_8b8a7_row0_col6 {\n",
              "  background-color: #efcfbf;\n",
              "  color: #000000;\n",
              "}\n",
              "#T_8b8a7_row1_col0 {\n",
              "  background-color: #f7aa8c;\n",
              "  color: #000000;\n",
              "}\n",
              "#T_8b8a7_row1_col2, #T_8b8a7_row1_col3, #T_8b8a7_row1_col4, #T_8b8a7_row1_col5, #T_8b8a7_row4_col0, #T_8b8a7_row4_col6, #T_8b8a7_row5_col1 {\n",
              "  background-color: #3b4cc0;\n",
              "  color: #f1f1f1;\n",
              "}\n",
              "#T_8b8a7_row1_col6 {\n",
              "  background-color: #f7ba9f;\n",
              "  color: #000000;\n",
              "}\n",
              "#T_8b8a7_row2_col0, #T_8b8a7_row6_col4 {\n",
              "  background-color: #4961d2;\n",
              "  color: #f1f1f1;\n",
              "}\n",
              "#T_8b8a7_row2_col1, #T_8b8a7_row4_col1 {\n",
              "  background-color: #4358cb;\n",
              "  color: #f1f1f1;\n",
              "}\n",
              "#T_8b8a7_row2_col3 {\n",
              "  background-color: #bd1f2d;\n",
              "  color: #f1f1f1;\n",
              "}\n",
              "#T_8b8a7_row2_col4, #T_8b8a7_row4_col2 {\n",
              "  background-color: #d24b40;\n",
              "  color: #f1f1f1;\n",
              "}\n",
              "#T_8b8a7_row2_col5, #T_8b8a7_row3_col4, #T_8b8a7_row4_col3, #T_8b8a7_row5_col2 {\n",
              "  background-color: #c83836;\n",
              "  color: #f1f1f1;\n",
              "}\n",
              "#T_8b8a7_row2_col6 {\n",
              "  background-color: #5b7ae5;\n",
              "  color: #f1f1f1;\n",
              "}\n",
              "#T_8b8a7_row3_col0 {\n",
              "  background-color: #445acc;\n",
              "  color: #f1f1f1;\n",
              "}\n",
              "#T_8b8a7_row3_col1 {\n",
              "  background-color: #3e51c5;\n",
              "  color: #f1f1f1;\n",
              "}\n",
              "#T_8b8a7_row3_col2 {\n",
              "  background-color: #be242e;\n",
              "  color: #f1f1f1;\n",
              "}\n",
              "#T_8b8a7_row3_col5, #T_8b8a7_row5_col3 {\n",
              "  background-color: #c12b30;\n",
              "  color: #f1f1f1;\n",
              "}\n",
              "#T_8b8a7_row3_col6 {\n",
              "  background-color: #5572df;\n",
              "  color: #f1f1f1;\n",
              "}\n",
              "#T_8b8a7_row4_col5 {\n",
              "  background-color: #cd423b;\n",
              "  color: #f1f1f1;\n",
              "}\n",
              "#T_8b8a7_row5_col0 {\n",
              "  background-color: #516ddb;\n",
              "  color: #f1f1f1;\n",
              "}\n",
              "#T_8b8a7_row5_col4 {\n",
              "  background-color: #cf453c;\n",
              "  color: #f1f1f1;\n",
              "}\n",
              "#T_8b8a7_row5_col6 {\n",
              "  background-color: #6e90f2;\n",
              "  color: #f1f1f1;\n",
              "}\n",
              "#T_8b8a7_row6_col0 {\n",
              "  background-color: #dcdddd;\n",
              "  color: #000000;\n",
              "}\n",
              "#T_8b8a7_row6_col1 {\n",
              "  background-color: #f7b194;\n",
              "  color: #000000;\n",
              "}\n",
              "#T_8b8a7_row6_col2 {\n",
              "  background-color: #6b8df0;\n",
              "  color: #f1f1f1;\n",
              "}\n",
              "#T_8b8a7_row6_col3 {\n",
              "  background-color: #688aef;\n",
              "  color: #f1f1f1;\n",
              "}\n",
              "#T_8b8a7_row6_col5 {\n",
              "  background-color: #85a8fc;\n",
              "  color: #f1f1f1;\n",
              "}\n",
              "</style>\n",
              "<table id=\"T_8b8a7_\" class=\"dataframe\">\n",
              "  <thead>\n",
              "    <tr>\n",
              "      <th class=\"blank level0\" >&nbsp;</th>\n",
              "      <th class=\"col_heading level0 col0\" >Model</th>\n",
              "      <th class=\"col_heading level0 col1\" >MPG</th>\n",
              "      <th class=\"col_heading level0 col2\" >Cilindros</th>\n",
              "      <th class=\"col_heading level0 col3\" >Cilindradas</th>\n",
              "      <th class=\"col_heading level0 col4\" >Cavalos (potência)</th>\n",
              "      <th class=\"col_heading level0 col5\" >Peso</th>\n",
              "      <th class=\"col_heading level0 col6\" >Aceleração</th>\n",
              "    </tr>\n",
              "  </thead>\n",
              "  <tbody>\n",
              "    <tr>\n",
              "      <th id=\"T_8b8a7_level0_row0\" class=\"row_heading level0 row0\" >Model</th>\n",
              "      <td id=\"T_8b8a7_row0_col0\" class=\"data row0 col0\" >1.000000</td>\n",
              "      <td id=\"T_8b8a7_row0_col1\" class=\"data row0 col1\" >0.580541</td>\n",
              "      <td id=\"T_8b8a7_row0_col2\" class=\"data row0 col2\" >-0.345647</td>\n",
              "      <td id=\"T_8b8a7_row0_col3\" class=\"data row0 col3\" >-0.369855</td>\n",
              "      <td id=\"T_8b8a7_row0_col4\" class=\"data row0 col4\" >-0.416361</td>\n",
              "      <td id=\"T_8b8a7_row0_col5\" class=\"data row0 col5\" >-0.309120</td>\n",
              "      <td id=\"T_8b8a7_row0_col6\" class=\"data row0 col6\" >0.290316</td>\n",
              "    </tr>\n",
              "    <tr>\n",
              "      <th id=\"T_8b8a7_level0_row1\" class=\"row_heading level0 row1\" >MPG</th>\n",
              "      <td id=\"T_8b8a7_row1_col0\" class=\"data row1 col0\" >0.580541</td>\n",
              "      <td id=\"T_8b8a7_row1_col1\" class=\"data row1 col1\" >1.000000</td>\n",
              "      <td id=\"T_8b8a7_row1_col2\" class=\"data row1 col2\" >-0.777618</td>\n",
              "      <td id=\"T_8b8a7_row1_col3\" class=\"data row1 col3\" >-0.805127</td>\n",
              "      <td id=\"T_8b8a7_row1_col4\" class=\"data row1 col4\" >-0.778427</td>\n",
              "      <td id=\"T_8b8a7_row1_col5\" class=\"data row1 col5\" >-0.832244</td>\n",
              "      <td id=\"T_8b8a7_row1_col6\" class=\"data row1 col6\" >0.423329</td>\n",
              "    </tr>\n",
              "    <tr>\n",
              "      <th id=\"T_8b8a7_level0_row2\" class=\"row_heading level0 row2\" >Cilindros</th>\n",
              "      <td id=\"T_8b8a7_row2_col0\" class=\"data row2 col0\" >-0.345647</td>\n",
              "      <td id=\"T_8b8a7_row2_col1\" class=\"data row2 col1\" >-0.777618</td>\n",
              "      <td id=\"T_8b8a7_row2_col2\" class=\"data row2 col2\" >1.000000</td>\n",
              "      <td id=\"T_8b8a7_row2_col3\" class=\"data row2 col3\" >0.950823</td>\n",
              "      <td id=\"T_8b8a7_row2_col4\" class=\"data row2 col4\" >0.842983</td>\n",
              "      <td id=\"T_8b8a7_row2_col5\" class=\"data row2 col5\" >0.897527</td>\n",
              "      <td id=\"T_8b8a7_row2_col6\" class=\"data row2 col6\" >-0.504683</td>\n",
              "    </tr>\n",
              "    <tr>\n",
              "      <th id=\"T_8b8a7_level0_row3\" class=\"row_heading level0 row3\" >Cilindradas</th>\n",
              "      <td id=\"T_8b8a7_row3_col0\" class=\"data row3 col0\" >-0.369855</td>\n",
              "      <td id=\"T_8b8a7_row3_col1\" class=\"data row3 col1\" >-0.805127</td>\n",
              "      <td id=\"T_8b8a7_row3_col2\" class=\"data row3 col2\" >0.950823</td>\n",
              "      <td id=\"T_8b8a7_row3_col3\" class=\"data row3 col3\" >1.000000</td>\n",
              "      <td id=\"T_8b8a7_row3_col4\" class=\"data row3 col4\" >0.897257</td>\n",
              "      <td id=\"T_8b8a7_row3_col5\" class=\"data row3 col5\" >0.932994</td>\n",
              "      <td id=\"T_8b8a7_row3_col6\" class=\"data row3 col6\" >-0.543800</td>\n",
              "    </tr>\n",
              "    <tr>\n",
              "      <th id=\"T_8b8a7_level0_row4\" class=\"row_heading level0 row4\" >Cavalos (potência)</th>\n",
              "      <td id=\"T_8b8a7_row4_col0\" class=\"data row4 col0\" >-0.416361</td>\n",
              "      <td id=\"T_8b8a7_row4_col1\" class=\"data row4 col1\" >-0.778427</td>\n",
              "      <td id=\"T_8b8a7_row4_col2\" class=\"data row4 col2\" >0.842983</td>\n",
              "      <td id=\"T_8b8a7_row4_col3\" class=\"data row4 col3\" >0.897257</td>\n",
              "      <td id=\"T_8b8a7_row4_col4\" class=\"data row4 col4\" >1.000000</td>\n",
              "      <td id=\"T_8b8a7_row4_col5\" class=\"data row4 col5\" >0.864538</td>\n",
              "      <td id=\"T_8b8a7_row4_col6\" class=\"data row4 col6\" >-0.689196</td>\n",
              "    </tr>\n",
              "    <tr>\n",
              "      <th id=\"T_8b8a7_level0_row5\" class=\"row_heading level0 row5\" >Peso</th>\n",
              "      <td id=\"T_8b8a7_row5_col0\" class=\"data row5 col0\" >-0.309120</td>\n",
              "      <td id=\"T_8b8a7_row5_col1\" class=\"data row5 col1\" >-0.832244</td>\n",
              "      <td id=\"T_8b8a7_row5_col2\" class=\"data row5 col2\" >0.897527</td>\n",
              "      <td id=\"T_8b8a7_row5_col3\" class=\"data row5 col3\" >0.932994</td>\n",
              "      <td id=\"T_8b8a7_row5_col4\" class=\"data row5 col4\" >0.864538</td>\n",
              "      <td id=\"T_8b8a7_row5_col5\" class=\"data row5 col5\" >1.000000</td>\n",
              "      <td id=\"T_8b8a7_row5_col6\" class=\"data row5 col6\" >-0.416839</td>\n",
              "    </tr>\n",
              "    <tr>\n",
              "      <th id=\"T_8b8a7_level0_row6\" class=\"row_heading level0 row6\" >Aceleração</th>\n",
              "      <td id=\"T_8b8a7_row6_col0\" class=\"data row6 col0\" >0.290316</td>\n",
              "      <td id=\"T_8b8a7_row6_col1\" class=\"data row6 col1\" >0.423329</td>\n",
              "      <td id=\"T_8b8a7_row6_col2\" class=\"data row6 col2\" >-0.504683</td>\n",
              "      <td id=\"T_8b8a7_row6_col3\" class=\"data row6 col3\" >-0.543800</td>\n",
              "      <td id=\"T_8b8a7_row6_col4\" class=\"data row6 col4\" >-0.689196</td>\n",
              "      <td id=\"T_8b8a7_row6_col5\" class=\"data row6 col5\" >-0.416839</td>\n",
              "      <td id=\"T_8b8a7_row6_col6\" class=\"data row6 col6\" >1.000000</td>\n",
              "    </tr>\n",
              "  </tbody>\n",
              "</table>\n"
            ]
          },
          "metadata": {},
          "execution_count": 98
        }
      ]
    },
    {
      "cell_type": "code",
      "source": [],
      "metadata": {
        "id": "Lyd6ZJkGQ5y1"
      },
      "execution_count": null,
      "outputs": []
    },
    {
      "cell_type": "code",
      "source": [
        "print(\"Estatísticas descritivas\")\n",
        "aval2.describe()"
      ],
      "metadata": {
        "colab": {
          "base_uri": "https://localhost:8080/",
          "height": 318
        },
        "id": "lfXKQNyWCaUK",
        "outputId": "8fd02e3e-e3e9-4d46-d420-d4da724974f7"
      },
      "execution_count": null,
      "outputs": [
        {
          "output_type": "stream",
          "name": "stdout",
          "text": [
            "Estatísticas descritivas\n"
          ]
        },
        {
          "output_type": "execute_result",
          "data": {
            "text/plain": [
              "            Model         MPG   Cilindros  Cilindradas  Cavalos (potência)  \\\n",
              "count  392.000000  392.000000  392.000000   392.000000          392.000000   \n",
              "mean    75.979592   23.445918    5.471939   194.411990          104.469388   \n",
              "std      3.683737    7.805007    1.705783   104.644004           38.491160   \n",
              "min     70.000000    9.000000    3.000000    68.000000           46.000000   \n",
              "25%     73.000000   17.000000    4.000000   105.000000           75.000000   \n",
              "50%     76.000000   22.750000    4.000000   151.000000           93.500000   \n",
              "75%     79.000000   29.000000    8.000000   275.750000          126.000000   \n",
              "max     82.000000   46.600000    8.000000   455.000000          230.000000   \n",
              "\n",
              "              Peso  Aceleração  \n",
              "count   392.000000  392.000000  \n",
              "mean   2977.584184   15.541327  \n",
              "std     849.402560    2.758864  \n",
              "min    1613.000000    8.000000  \n",
              "25%    2225.250000   13.775000  \n",
              "50%    2803.500000   15.500000  \n",
              "75%    3614.750000   17.025000  \n",
              "max    5140.000000   24.800000  "
            ],
            "text/html": [
              "\n",
              "  <div id=\"df-b1c975e0-0385-4700-8908-e2f6e5161e71\">\n",
              "    <div class=\"colab-df-container\">\n",
              "      <div>\n",
              "<style scoped>\n",
              "    .dataframe tbody tr th:only-of-type {\n",
              "        vertical-align: middle;\n",
              "    }\n",
              "\n",
              "    .dataframe tbody tr th {\n",
              "        vertical-align: top;\n",
              "    }\n",
              "\n",
              "    .dataframe thead th {\n",
              "        text-align: right;\n",
              "    }\n",
              "</style>\n",
              "<table border=\"1\" class=\"dataframe\">\n",
              "  <thead>\n",
              "    <tr style=\"text-align: right;\">\n",
              "      <th></th>\n",
              "      <th>Model</th>\n",
              "      <th>MPG</th>\n",
              "      <th>Cilindros</th>\n",
              "      <th>Cilindradas</th>\n",
              "      <th>Cavalos (potência)</th>\n",
              "      <th>Peso</th>\n",
              "      <th>Aceleração</th>\n",
              "    </tr>\n",
              "  </thead>\n",
              "  <tbody>\n",
              "    <tr>\n",
              "      <th>count</th>\n",
              "      <td>392.000000</td>\n",
              "      <td>392.000000</td>\n",
              "      <td>392.000000</td>\n",
              "      <td>392.000000</td>\n",
              "      <td>392.000000</td>\n",
              "      <td>392.000000</td>\n",
              "      <td>392.000000</td>\n",
              "    </tr>\n",
              "    <tr>\n",
              "      <th>mean</th>\n",
              "      <td>75.979592</td>\n",
              "      <td>23.445918</td>\n",
              "      <td>5.471939</td>\n",
              "      <td>194.411990</td>\n",
              "      <td>104.469388</td>\n",
              "      <td>2977.584184</td>\n",
              "      <td>15.541327</td>\n",
              "    </tr>\n",
              "    <tr>\n",
              "      <th>std</th>\n",
              "      <td>3.683737</td>\n",
              "      <td>7.805007</td>\n",
              "      <td>1.705783</td>\n",
              "      <td>104.644004</td>\n",
              "      <td>38.491160</td>\n",
              "      <td>849.402560</td>\n",
              "      <td>2.758864</td>\n",
              "    </tr>\n",
              "    <tr>\n",
              "      <th>min</th>\n",
              "      <td>70.000000</td>\n",
              "      <td>9.000000</td>\n",
              "      <td>3.000000</td>\n",
              "      <td>68.000000</td>\n",
              "      <td>46.000000</td>\n",
              "      <td>1613.000000</td>\n",
              "      <td>8.000000</td>\n",
              "    </tr>\n",
              "    <tr>\n",
              "      <th>25%</th>\n",
              "      <td>73.000000</td>\n",
              "      <td>17.000000</td>\n",
              "      <td>4.000000</td>\n",
              "      <td>105.000000</td>\n",
              "      <td>75.000000</td>\n",
              "      <td>2225.250000</td>\n",
              "      <td>13.775000</td>\n",
              "    </tr>\n",
              "    <tr>\n",
              "      <th>50%</th>\n",
              "      <td>76.000000</td>\n",
              "      <td>22.750000</td>\n",
              "      <td>4.000000</td>\n",
              "      <td>151.000000</td>\n",
              "      <td>93.500000</td>\n",
              "      <td>2803.500000</td>\n",
              "      <td>15.500000</td>\n",
              "    </tr>\n",
              "    <tr>\n",
              "      <th>75%</th>\n",
              "      <td>79.000000</td>\n",
              "      <td>29.000000</td>\n",
              "      <td>8.000000</td>\n",
              "      <td>275.750000</td>\n",
              "      <td>126.000000</td>\n",
              "      <td>3614.750000</td>\n",
              "      <td>17.025000</td>\n",
              "    </tr>\n",
              "    <tr>\n",
              "      <th>max</th>\n",
              "      <td>82.000000</td>\n",
              "      <td>46.600000</td>\n",
              "      <td>8.000000</td>\n",
              "      <td>455.000000</td>\n",
              "      <td>230.000000</td>\n",
              "      <td>5140.000000</td>\n",
              "      <td>24.800000</td>\n",
              "    </tr>\n",
              "  </tbody>\n",
              "</table>\n",
              "</div>\n",
              "      <button class=\"colab-df-convert\" onclick=\"convertToInteractive('df-b1c975e0-0385-4700-8908-e2f6e5161e71')\"\n",
              "              title=\"Convert this dataframe to an interactive table.\"\n",
              "              style=\"display:none;\">\n",
              "        \n",
              "  <svg xmlns=\"http://www.w3.org/2000/svg\" height=\"24px\"viewBox=\"0 0 24 24\"\n",
              "       width=\"24px\">\n",
              "    <path d=\"M0 0h24v24H0V0z\" fill=\"none\"/>\n",
              "    <path d=\"M18.56 5.44l.94 2.06.94-2.06 2.06-.94-2.06-.94-.94-2.06-.94 2.06-2.06.94zm-11 1L8.5 8.5l.94-2.06 2.06-.94-2.06-.94L8.5 2.5l-.94 2.06-2.06.94zm10 10l.94 2.06.94-2.06 2.06-.94-2.06-.94-.94-2.06-.94 2.06-2.06.94z\"/><path d=\"M17.41 7.96l-1.37-1.37c-.4-.4-.92-.59-1.43-.59-.52 0-1.04.2-1.43.59L10.3 9.45l-7.72 7.72c-.78.78-.78 2.05 0 2.83L4 21.41c.39.39.9.59 1.41.59.51 0 1.02-.2 1.41-.59l7.78-7.78 2.81-2.81c.8-.78.8-2.07 0-2.86zM5.41 20L4 18.59l7.72-7.72 1.47 1.35L5.41 20z\"/>\n",
              "  </svg>\n",
              "      </button>\n",
              "      \n",
              "  <style>\n",
              "    .colab-df-container {\n",
              "      display:flex;\n",
              "      flex-wrap:wrap;\n",
              "      gap: 12px;\n",
              "    }\n",
              "\n",
              "    .colab-df-convert {\n",
              "      background-color: #E8F0FE;\n",
              "      border: none;\n",
              "      border-radius: 50%;\n",
              "      cursor: pointer;\n",
              "      display: none;\n",
              "      fill: #1967D2;\n",
              "      height: 32px;\n",
              "      padding: 0 0 0 0;\n",
              "      width: 32px;\n",
              "    }\n",
              "\n",
              "    .colab-df-convert:hover {\n",
              "      background-color: #E2EBFA;\n",
              "      box-shadow: 0px 1px 2px rgba(60, 64, 67, 0.3), 0px 1px 3px 1px rgba(60, 64, 67, 0.15);\n",
              "      fill: #174EA6;\n",
              "    }\n",
              "\n",
              "    [theme=dark] .colab-df-convert {\n",
              "      background-color: #3B4455;\n",
              "      fill: #D2E3FC;\n",
              "    }\n",
              "\n",
              "    [theme=dark] .colab-df-convert:hover {\n",
              "      background-color: #434B5C;\n",
              "      box-shadow: 0px 1px 3px 1px rgba(0, 0, 0, 0.15);\n",
              "      filter: drop-shadow(0px 1px 2px rgba(0, 0, 0, 0.3));\n",
              "      fill: #FFFFFF;\n",
              "    }\n",
              "  </style>\n",
              "\n",
              "      <script>\n",
              "        const buttonEl =\n",
              "          document.querySelector('#df-b1c975e0-0385-4700-8908-e2f6e5161e71 button.colab-df-convert');\n",
              "        buttonEl.style.display =\n",
              "          google.colab.kernel.accessAllowed ? 'block' : 'none';\n",
              "\n",
              "        async function convertToInteractive(key) {\n",
              "          const element = document.querySelector('#df-b1c975e0-0385-4700-8908-e2f6e5161e71');\n",
              "          const dataTable =\n",
              "            await google.colab.kernel.invokeFunction('convertToInteractive',\n",
              "                                                     [key], {});\n",
              "          if (!dataTable) return;\n",
              "\n",
              "          const docLinkHtml = 'Like what you see? Visit the ' +\n",
              "            '<a target=\"_blank\" href=https://colab.research.google.com/notebooks/data_table.ipynb>data table notebook</a>'\n",
              "            + ' to learn more about interactive tables.';\n",
              "          element.innerHTML = '';\n",
              "          dataTable['output_type'] = 'display_data';\n",
              "          await google.colab.output.renderOutput(dataTable, element);\n",
              "          const docLink = document.createElement('div');\n",
              "          docLink.innerHTML = docLinkHtml;\n",
              "          element.appendChild(docLink);\n",
              "        }\n",
              "      </script>\n",
              "    </div>\n",
              "  </div>\n",
              "  "
            ]
          },
          "metadata": {},
          "execution_count": 110
        }
      ]
    },
    {
      "cell_type": "code",
      "source": [
        "#4a) Realizar regressão linear para essas variáveis\n",
        "#4b) Gerar gráfico de regressão ( com linha de tendência, se possível)\n",
        "#4c) Determinar os valores de R2 ( r-quadrado) e do valor de p\n",
        "#4d) Interpretar o grau de predição dos modelos lineares gerados com base no comportamento da variável dependente em função da variável independente."
      ],
      "metadata": {
        "id": "pgej7HSiWHpz"
      },
      "execution_count": null,
      "outputs": []
    },
    {
      "cell_type": "code",
      "source": [
        "df = pd.read_excel ('aval2.xlsx')\n",
        "df.head (4)"
      ],
      "metadata": {
        "colab": {
          "base_uri": "https://localhost:8080/",
          "height": 175
        },
        "id": "Q9xL64cOWHvC",
        "outputId": "99d2c363-5a16-487a-b86d-8a26de79dee3"
      },
      "execution_count": null,
      "outputs": [
        {
          "output_type": "execute_result",
          "data": {
            "text/plain": [
              "                Car  Model Origin   MPG  Cilindros  Cilindradas  \\\n",
              "0          Hi 1200D     70     US   9.0          8        304.0   \n",
              "1         Chevy C20     70     US  10.0          8        307.0   \n",
              "2         Ford F250     70     US  10.0          8        360.0   \n",
              "3  Chevrolet Impala     73     US  11.0          8        400.0   \n",
              "\n",
              "   Cavalos (potência)  Peso  Aceleração  \n",
              "0                 193  4732        18.5  \n",
              "1                 200  4376        15.0  \n",
              "2                 215  4615        14.0  \n",
              "3                 150  4997        14.0  "
            ],
            "text/html": [
              "\n",
              "  <div id=\"df-3913dc46-77ba-4185-ad03-f593a7be87f4\">\n",
              "    <div class=\"colab-df-container\">\n",
              "      <div>\n",
              "<style scoped>\n",
              "    .dataframe tbody tr th:only-of-type {\n",
              "        vertical-align: middle;\n",
              "    }\n",
              "\n",
              "    .dataframe tbody tr th {\n",
              "        vertical-align: top;\n",
              "    }\n",
              "\n",
              "    .dataframe thead th {\n",
              "        text-align: right;\n",
              "    }\n",
              "</style>\n",
              "<table border=\"1\" class=\"dataframe\">\n",
              "  <thead>\n",
              "    <tr style=\"text-align: right;\">\n",
              "      <th></th>\n",
              "      <th>Car</th>\n",
              "      <th>Model</th>\n",
              "      <th>Origin</th>\n",
              "      <th>MPG</th>\n",
              "      <th>Cilindros</th>\n",
              "      <th>Cilindradas</th>\n",
              "      <th>Cavalos (potência)</th>\n",
              "      <th>Peso</th>\n",
              "      <th>Aceleração</th>\n",
              "    </tr>\n",
              "  </thead>\n",
              "  <tbody>\n",
              "    <tr>\n",
              "      <th>0</th>\n",
              "      <td>Hi 1200D</td>\n",
              "      <td>70</td>\n",
              "      <td>US</td>\n",
              "      <td>9.0</td>\n",
              "      <td>8</td>\n",
              "      <td>304.0</td>\n",
              "      <td>193</td>\n",
              "      <td>4732</td>\n",
              "      <td>18.5</td>\n",
              "    </tr>\n",
              "    <tr>\n",
              "      <th>1</th>\n",
              "      <td>Chevy C20</td>\n",
              "      <td>70</td>\n",
              "      <td>US</td>\n",
              "      <td>10.0</td>\n",
              "      <td>8</td>\n",
              "      <td>307.0</td>\n",
              "      <td>200</td>\n",
              "      <td>4376</td>\n",
              "      <td>15.0</td>\n",
              "    </tr>\n",
              "    <tr>\n",
              "      <th>2</th>\n",
              "      <td>Ford F250</td>\n",
              "      <td>70</td>\n",
              "      <td>US</td>\n",
              "      <td>10.0</td>\n",
              "      <td>8</td>\n",
              "      <td>360.0</td>\n",
              "      <td>215</td>\n",
              "      <td>4615</td>\n",
              "      <td>14.0</td>\n",
              "    </tr>\n",
              "    <tr>\n",
              "      <th>3</th>\n",
              "      <td>Chevrolet Impala</td>\n",
              "      <td>73</td>\n",
              "      <td>US</td>\n",
              "      <td>11.0</td>\n",
              "      <td>8</td>\n",
              "      <td>400.0</td>\n",
              "      <td>150</td>\n",
              "      <td>4997</td>\n",
              "      <td>14.0</td>\n",
              "    </tr>\n",
              "  </tbody>\n",
              "</table>\n",
              "</div>\n",
              "      <button class=\"colab-df-convert\" onclick=\"convertToInteractive('df-3913dc46-77ba-4185-ad03-f593a7be87f4')\"\n",
              "              title=\"Convert this dataframe to an interactive table.\"\n",
              "              style=\"display:none;\">\n",
              "        \n",
              "  <svg xmlns=\"http://www.w3.org/2000/svg\" height=\"24px\"viewBox=\"0 0 24 24\"\n",
              "       width=\"24px\">\n",
              "    <path d=\"M0 0h24v24H0V0z\" fill=\"none\"/>\n",
              "    <path d=\"M18.56 5.44l.94 2.06.94-2.06 2.06-.94-2.06-.94-.94-2.06-.94 2.06-2.06.94zm-11 1L8.5 8.5l.94-2.06 2.06-.94-2.06-.94L8.5 2.5l-.94 2.06-2.06.94zm10 10l.94 2.06.94-2.06 2.06-.94-2.06-.94-.94-2.06-.94 2.06-2.06.94z\"/><path d=\"M17.41 7.96l-1.37-1.37c-.4-.4-.92-.59-1.43-.59-.52 0-1.04.2-1.43.59L10.3 9.45l-7.72 7.72c-.78.78-.78 2.05 0 2.83L4 21.41c.39.39.9.59 1.41.59.51 0 1.02-.2 1.41-.59l7.78-7.78 2.81-2.81c.8-.78.8-2.07 0-2.86zM5.41 20L4 18.59l7.72-7.72 1.47 1.35L5.41 20z\"/>\n",
              "  </svg>\n",
              "      </button>\n",
              "      \n",
              "  <style>\n",
              "    .colab-df-container {\n",
              "      display:flex;\n",
              "      flex-wrap:wrap;\n",
              "      gap: 12px;\n",
              "    }\n",
              "\n",
              "    .colab-df-convert {\n",
              "      background-color: #E8F0FE;\n",
              "      border: none;\n",
              "      border-radius: 50%;\n",
              "      cursor: pointer;\n",
              "      display: none;\n",
              "      fill: #1967D2;\n",
              "      height: 32px;\n",
              "      padding: 0 0 0 0;\n",
              "      width: 32px;\n",
              "    }\n",
              "\n",
              "    .colab-df-convert:hover {\n",
              "      background-color: #E2EBFA;\n",
              "      box-shadow: 0px 1px 2px rgba(60, 64, 67, 0.3), 0px 1px 3px 1px rgba(60, 64, 67, 0.15);\n",
              "      fill: #174EA6;\n",
              "    }\n",
              "\n",
              "    [theme=dark] .colab-df-convert {\n",
              "      background-color: #3B4455;\n",
              "      fill: #D2E3FC;\n",
              "    }\n",
              "\n",
              "    [theme=dark] .colab-df-convert:hover {\n",
              "      background-color: #434B5C;\n",
              "      box-shadow: 0px 1px 3px 1px rgba(0, 0, 0, 0.15);\n",
              "      filter: drop-shadow(0px 1px 2px rgba(0, 0, 0, 0.3));\n",
              "      fill: #FFFFFF;\n",
              "    }\n",
              "  </style>\n",
              "\n",
              "      <script>\n",
              "        const buttonEl =\n",
              "          document.querySelector('#df-3913dc46-77ba-4185-ad03-f593a7be87f4 button.colab-df-convert');\n",
              "        buttonEl.style.display =\n",
              "          google.colab.kernel.accessAllowed ? 'block' : 'none';\n",
              "\n",
              "        async function convertToInteractive(key) {\n",
              "          const element = document.querySelector('#df-3913dc46-77ba-4185-ad03-f593a7be87f4');\n",
              "          const dataTable =\n",
              "            await google.colab.kernel.invokeFunction('convertToInteractive',\n",
              "                                                     [key], {});\n",
              "          if (!dataTable) return;\n",
              "\n",
              "          const docLinkHtml = 'Like what you see? Visit the ' +\n",
              "            '<a target=\"_blank\" href=https://colab.research.google.com/notebooks/data_table.ipynb>data table notebook</a>'\n",
              "            + ' to learn more about interactive tables.';\n",
              "          element.innerHTML = '';\n",
              "          dataTable['output_type'] = 'display_data';\n",
              "          await google.colab.output.renderOutput(dataTable, element);\n",
              "          const docLink = document.createElement('div');\n",
              "          docLink.innerHTML = docLinkHtml;\n",
              "          element.appendChild(docLink);\n",
              "        }\n",
              "      </script>\n",
              "    </div>\n",
              "  </div>\n",
              "  "
            ]
          },
          "metadata": {},
          "execution_count": 111
        }
      ]
    },
    {
      "cell_type": "code",
      "source": [
        "X = np.array(df[\"Cilindradas\"]).reshape((-1,1))\n",
        "Y = np.array(df[\"Peso\"])\n",
        "\n",
        "plb.figure(figsize=(15, 4))\n",
        "plb.suptitle(\"Gráficos de Dispersão\")\n",
        "plb.ylabel(\"Peso\")\n",
        "\n",
        "plb.subplot(131)\n",
        "plb.scatter(df[\"MPG\"],Y)\n",
        "plb.xlabel(\"MPG)\")\n",
        "plb.subplot(132)\n",
        "plb.scatter(df[\"Cilindradas\"],Y)\n",
        "plb.xlabel(\"Cilindradas\")\n"
      ],
      "metadata": {
        "colab": {
          "base_uri": "https://localhost:8080/",
          "height": 325
        },
        "id": "a0ppvn2uiTkC",
        "outputId": "ed031a44-8998-4246-9eb8-f092627c0e6b"
      },
      "execution_count": null,
      "outputs": [
        {
          "output_type": "execute_result",
          "data": {
            "text/plain": [
              "Text(0.5, 0, 'Cilindradas')"
            ]
          },
          "metadata": {},
          "execution_count": 112
        },
        {
          "output_type": "display_data",
          "data": {
            "text/plain": [
              "<Figure size 1080x288 with 2 Axes>"
            ],
            "image/png": "[encoded data removed]"
          },
          "metadata": {}
        }
      ]
    },
    {
      "cell_type": "code",
      "source": [
        "modelo = sm.OLS(Y, sm.add_constant(X)).fit()\n",
        "print(modelo.summary())"
      ],
      "metadata": {
        "colab": {
          "base_uri": "https://localhost:8080/"
        },
        "id": "k-jcyQOWiTr9",
        "outputId": "a1b2d0a8-b757-4685-c5f9-f1607278fa80"
      },
      "execution_count": null,
      "outputs": [
        {
          "output_type": "stream",
          "name": "stdout",
          "text": [
            "                            OLS Regression Results                            \n",
            "==============================================================================\n",
            "Dep. Variable:                      y   R-squared:                       0.870\n",
            "Model:                            OLS   Adj. R-squared:                  0.870\n",
            "Method:                 Least Squares   F-statistic:                     2621.\n",
            "Date:                Thu, 20 Oct 2022   Prob (F-statistic):          3.49e-175\n",
            "Time:                        22:30:20   Log-Likelihood:                -2799.0\n",
            "No. Observations:                 392   AIC:                             5602.\n",
            "Df Residuals:                     390   BIC:                             5610.\n",
            "Df Model:                           1                                         \n",
            "Covariance Type:            nonrobust                                         \n",
            "==============================================================================\n",
            "                 coef    std err          t      P>|t|      [0.025      0.975]\n",
            "------------------------------------------------------------------------------\n",
            "const       1505.2673     32.650     46.103      0.000    1441.075    1569.459\n",
            "x1             7.5732      0.148     51.197      0.000       7.282       7.864\n",
            "==============================================================================\n",
            "Omnibus:                       38.840   Durbin-Watson:                   1.785\n",
            "Prob(Omnibus):                  0.000   Jarque-Bera (JB):              190.745\n",
            "Skew:                          -0.174   Prob(JB):                     3.80e-42\n",
            "Kurtosis:                       6.399   Cond. No.                         466.\n",
            "==============================================================================\n",
            "\n",
            "Notes:\n",
            "[1] Standard Errors assume that the covariance matrix of the errors is correctly specified.\n"
          ]
        }
      ]
    },
    {
      "cell_type": "code",
      "source": [
        "sm.stats.anova_lm(ols('Peso ~ Cilindradas', data=df).fit())"
      ],
      "metadata": {
        "colab": {
          "base_uri": "https://localhost:8080/",
          "height": 112
        },
        "id": "BPRiueQQiTxt",
        "outputId": "13183f64-329c-4f93-edb7-70f918101d87"
      },
      "execution_count": null,
      "outputs": [
        {
          "output_type": "execute_result",
          "data": {
            "text/plain": [
              "                df        sum_sq       mean_sq            F         PR(>F)\n",
              "Cilindradas    1.0  2.455625e+08  2.455625e+08  2621.084452  3.489084e-175\n",
              "Residual     390.0  3.653807e+07  9.368735e+04          NaN            NaN"
            ],
            "text/html": [
              "\n",
              "  <div id=\"df-f5b6c6f8-4566-4f49-86aa-b3a25373bdb6\">\n",
              "    <div class=\"colab-df-container\">\n",
              "      <div>\n",
              "<style scoped>\n",
              "    .dataframe tbody tr th:only-of-type {\n",
              "        vertical-align: middle;\n",
              "    }\n",
              "\n",
              "    .dataframe tbody tr th {\n",
              "        vertical-align: top;\n",
              "    }\n",
              "\n",
              "    .dataframe thead th {\n",
              "        text-align: right;\n",
              "    }\n",
              "</style>\n",
              "<table border=\"1\" class=\"dataframe\">\n",
              "  <thead>\n",
              "    <tr style=\"text-align: right;\">\n",
              "      <th></th>\n",
              "      <th>df</th>\n",
              "      <th>sum_sq</th>\n",
              "      <th>mean_sq</th>\n",
              "      <th>F</th>\n",
              "      <th>PR(&gt;F)</th>\n",
              "    </tr>\n",
              "  </thead>\n",
              "  <tbody>\n",
              "    <tr>\n",
              "      <th>Cilindradas</th>\n",
              "      <td>1.0</td>\n",
              "      <td>2.455625e+08</td>\n",
              "      <td>2.455625e+08</td>\n",
              "      <td>2621.084452</td>\n",
              "      <td>3.489084e-175</td>\n",
              "    </tr>\n",
              "    <tr>\n",
              "      <th>Residual</th>\n",
              "      <td>390.0</td>\n",
              "      <td>3.653807e+07</td>\n",
              "      <td>9.368735e+04</td>\n",
              "      <td>NaN</td>\n",
              "      <td>NaN</td>\n",
              "    </tr>\n",
              "  </tbody>\n",
              "</table>\n",
              "</div>\n",
              "      <button class=\"colab-df-convert\" onclick=\"convertToInteractive('df-f5b6c6f8-4566-4f49-86aa-b3a25373bdb6')\"\n",
              "              title=\"Convert this dataframe to an interactive table.\"\n",
              "              style=\"display:none;\">\n",
              "        \n",
              "  <svg xmlns=\"http://www.w3.org/2000/svg\" height=\"24px\"viewBox=\"0 0 24 24\"\n",
              "       width=\"24px\">\n",
              "    <path d=\"M0 0h24v24H0V0z\" fill=\"none\"/>\n",
              "    <path d=\"M18.56 5.44l.94 2.06.94-2.06 2.06-.94-2.06-.94-.94-2.06-.94 2.06-2.06.94zm-11 1L8.5 8.5l.94-2.06 2.06-.94-2.06-.94L8.5 2.5l-.94 2.06-2.06.94zm10 10l.94 2.06.94-2.06 2.06-.94-2.06-.94-.94-2.06-.94 2.06-2.06.94z\"/><path d=\"M17.41 7.96l-1.37-1.37c-.4-.4-.92-.59-1.43-.59-.52 0-1.04.2-1.43.59L10.3 9.45l-7.72 7.72c-.78.78-.78 2.05 0 2.83L4 21.41c.39.39.9.59 1.41.59.51 0 1.02-.2 1.41-.59l7.78-7.78 2.81-2.81c.8-.78.8-2.07 0-2.86zM5.41 20L4 18.59l7.72-7.72 1.47 1.35L5.41 20z\"/>\n",
              "  </svg>\n",
              "      </button>\n",
              "      \n",
              "  <style>\n",
              "    .colab-df-container {\n",
              "      display:flex;\n",
              "      flex-wrap:wrap;\n",
              "      gap: 12px;\n",
              "    }\n",
              "\n",
              "    .colab-df-convert {\n",
              "      background-color: #E8F0FE;\n",
              "      border: none;\n",
              "      border-radius: 50%;\n",
              "      cursor: pointer;\n",
              "      display: none;\n",
              "      fill: #1967D2;\n",
              "      height: 32px;\n",
              "      padding: 0 0 0 0;\n",
              "      width: 32px;\n",
              "    }\n",
              "\n",
              "    .colab-df-convert:hover {\n",
              "      background-color: #E2EBFA;\n",
              "      box-shadow: 0px 1px 2px rgba(60, 64, 67, 0.3), 0px 1px 3px 1px rgba(60, 64, 67, 0.15);\n",
              "      fill: #174EA6;\n",
              "    }\n",
              "\n",
              "    [theme=dark] .colab-df-convert {\n",
              "      background-color: #3B4455;\n",
              "      fill: #D2E3FC;\n",
              "    }\n",
              "\n",
              "    [theme=dark] .colab-df-convert:hover {\n",
              "      background-color: #434B5C;\n",
              "      box-shadow: 0px 1px 3px 1px rgba(0, 0, 0, 0.15);\n",
              "      filter: drop-shadow(0px 1px 2px rgba(0, 0, 0, 0.3));\n",
              "      fill: #FFFFFF;\n",
              "    }\n",
              "  </style>\n",
              "\n",
              "      <script>\n",
              "        const buttonEl =\n",
              "          document.querySelector('#df-f5b6c6f8-4566-4f49-86aa-b3a25373bdb6 button.colab-df-convert');\n",
              "        buttonEl.style.display =\n",
              "          google.colab.kernel.accessAllowed ? 'block' : 'none';\n",
              "\n",
              "        async function convertToInteractive(key) {\n",
              "          const element = document.querySelector('#df-f5b6c6f8-4566-4f49-86aa-b3a25373bdb6');\n",
              "          const dataTable =\n",
              "            await google.colab.kernel.invokeFunction('convertToInteractive',\n",
              "                                                     [key], {});\n",
              "          if (!dataTable) return;\n",
              "\n",
              "          const docLinkHtml = 'Like what you see? Visit the ' +\n",
              "            '<a target=\"_blank\" href=https://colab.research.google.com/notebooks/data_table.ipynb>data table notebook</a>'\n",
              "            + ' to learn more about interactive tables.';\n",
              "          element.innerHTML = '';\n",
              "          dataTable['output_type'] = 'display_data';\n",
              "          await google.colab.output.renderOutput(dataTable, element);\n",
              "          const docLink = document.createElement('div');\n",
              "          docLink.innerHTML = docLinkHtml;\n",
              "          element.appendChild(docLink);\n",
              "        }\n",
              "      </script>\n",
              "    </div>\n",
              "  </div>\n",
              "  "
            ]
          },
          "metadata": {},
          "execution_count": 114
        }
      ]
    },
    {
      "cell_type": "code",
      "source": [
        "plb.figure(figsize=(8, 4))\n",
        "plb.scatter(X,Y)\n",
        "plb.plot(X, modelo.predict(), color=\"r\")\n",
        "plb.xlabel(\"Cilindradas\")\n",
        "plb.ylabel(\"Peso\")"
      ],
      "metadata": {
        "colab": {
          "base_uri": "https://localhost:8080/",
          "height": 296
        },
        "id": "42j5wXNQjvnr",
        "outputId": "75686219-1b72-459a-e44e-cb17eb88cac8"
      },
      "execution_count": null,
      "outputs": [
        {
          "output_type": "execute_result",
          "data": {
            "text/plain": [
              "Text(0, 0.5, 'Peso')"
            ]
          },
          "metadata": {},
          "execution_count": 115
        },
        {
          "output_type": "display_data",
          "data": {
            "text/plain": [
              "<Figure size 576x288 with 1 Axes>"
            ],
            "image/png": "[encoded data removed]"
          },
          "metadata": {}
        }
      ]
    },
    {
      "cell_type": "code",
      "source": [
        "X = np.array(df[\"MPG\"]).reshape((-1,1))\n",
        "Y = np.array(df[\"Peso\"])\n",
        "\n",
        "plb.figure(figsize=(15, 4))\n",
        "plb.suptitle(\"Gráficos de Dispersão\")\n",
        "plb.ylabel(\"Peso\")\n",
        "\n",
        "plb.subplot(131)\n",
        "plb.scatter(df[\"MPG\"],Y)\n",
        "plb.xlabel(\"MPG)\")\n",
        "plb.subplot(132)\n",
        "plb.scatter(df[\"Cilindradas\"],Y)\n",
        "plb.xlabel(\"Cilindradas\")"
      ],
      "metadata": {
        "colab": {
          "base_uri": "https://localhost:8080/",
          "height": 325
        },
        "id": "uwrQbSY_ePeE",
        "outputId": "ff34f5e9-2b58-4b7c-aff7-a2645d8067b9"
      },
      "execution_count": null,
      "outputs": [
        {
          "output_type": "execute_result",
          "data": {
            "text/plain": [
              "Text(0.5, 0, 'Cilindradas')"
            ]
          },
          "metadata": {},
          "execution_count": 116
        },
        {
          "output_type": "display_data",
          "data": {
            "text/plain": [
              "<Figure size 1080x288 with 2 Axes>"
            ],
            "image/png": "[encoded data removed]"
          },
          "metadata": {}
        }
      ]
    },
    {
      "cell_type": "code",
      "source": [
        "modelo = sm.OLS(Y, sm.add_constant(X)).fit()\n",
        "print(modelo.summary())"
      ],
      "metadata": {
        "colab": {
          "base_uri": "https://localhost:8080/"
        },
        "id": "woVOZNmIePlV",
        "outputId": "b3769586-75bb-48a2-98ad-46ff92c0e301"
      },
      "execution_count": null,
      "outputs": [
        {
          "output_type": "stream",
          "name": "stdout",
          "text": [
            "                            OLS Regression Results                            \n",
            "==============================================================================\n",
            "Dep. Variable:                      y   R-squared:                       0.693\n",
            "Model:                            OLS   Adj. R-squared:                  0.692\n",
            "Method:                 Least Squares   F-statistic:                     878.8\n",
            "Date:                Thu, 20 Oct 2022   Prob (F-statistic):          6.02e-102\n",
            "Time:                        22:30:45   Log-Likelihood:                -2968.4\n",
            "No. Observations:                 392   AIC:                             5941.\n",
            "Df Residuals:                     390   BIC:                             5949.\n",
            "Df Model:                           1                                         \n",
            "Covariance Type:            nonrobust                                         \n",
            "==============================================================================\n",
            "                 coef    std err          t      P>|t|      [0.025      0.975]\n",
            "------------------------------------------------------------------------------\n",
            "const       5101.1136     75.487     67.576      0.000    4952.701    5249.526\n",
            "x1           -90.5714      3.055    -29.645      0.000     -96.578     -84.565\n",
            "==============================================================================\n",
            "Omnibus:                        4.278   Durbin-Watson:                   1.227\n",
            "Prob(Omnibus):                  0.118   Jarque-Bera (JB):                4.151\n",
            "Skew:                           0.209   Prob(JB):                        0.125\n",
            "Kurtosis:                       2.718   Cond. No.                         78.4\n",
            "==============================================================================\n",
            "\n",
            "Notes:\n",
            "[1] Standard Errors assume that the covariance matrix of the errors is correctly specified.\n"
          ]
        }
      ]
    },
    {
      "cell_type": "code",
      "source": [
        "sm.stats.anova_lm(ols('Peso ~ MPG', data=df).fit())"
      ],
      "metadata": {
        "colab": {
          "base_uri": "https://localhost:8080/",
          "height": 112
        },
        "id": "_NtiSjlHePoj",
        "outputId": "52cbeddc-15f6-4d2c-e777-716503571124"
      },
      "execution_count": null,
      "outputs": [
        {
          "output_type": "execute_result",
          "data": {
            "text/plain": [
              "             df        sum_sq       mean_sq           F         PR(>F)\n",
              "MPG         1.0  1.953914e+08  1.953914e+08  878.830886  6.015296e-102\n",
              "Residual  390.0  8.670912e+07  2.223311e+05         NaN            NaN"
            ],
            "text/html": [
              "\n",
              "  <div id=\"df-9836f9cc-9d4c-4098-8171-ef0a1a1b0f71\">\n",
              "    <div class=\"colab-df-container\">\n",
              "      <div>\n",
              "<style scoped>\n",
              "    .dataframe tbody tr th:only-of-type {\n",
              "        vertical-align: middle;\n",
              "    }\n",
              "\n",
              "    .dataframe tbody tr th {\n",
              "        vertical-align: top;\n",
              "    }\n",
              "\n",
              "    .dataframe thead th {\n",
              "        text-align: right;\n",
              "    }\n",
              "</style>\n",
              "<table border=\"1\" class=\"dataframe\">\n",
              "  <thead>\n",
              "    <tr style=\"text-align: right;\">\n",
              "      <th></th>\n",
              "      <th>df</th>\n",
              "      <th>sum_sq</th>\n",
              "      <th>mean_sq</th>\n",
              "      <th>F</th>\n",
              "      <th>PR(&gt;F)</th>\n",
              "    </tr>\n",
              "  </thead>\n",
              "  <tbody>\n",
              "    <tr>\n",
              "      <th>MPG</th>\n",
              "      <td>1.0</td>\n",
              "      <td>1.953914e+08</td>\n",
              "      <td>1.953914e+08</td>\n",
              "      <td>878.830886</td>\n",
              "      <td>6.015296e-102</td>\n",
              "    </tr>\n",
              "    <tr>\n",
              "      <th>Residual</th>\n",
              "      <td>390.0</td>\n",
              "      <td>8.670912e+07</td>\n",
              "      <td>2.223311e+05</td>\n",
              "      <td>NaN</td>\n",
              "      <td>NaN</td>\n",
              "    </tr>\n",
              "  </tbody>\n",
              "</table>\n",
              "</div>\n",
              "      <button class=\"colab-df-convert\" onclick=\"convertToInteractive('df-9836f9cc-9d4c-4098-8171-ef0a1a1b0f71')\"\n",
              "              title=\"Convert this dataframe to an interactive table.\"\n",
              "              style=\"display:none;\">\n",
              "        \n",
              "  <svg xmlns=\"http://www.w3.org/2000/svg\" height=\"24px\"viewBox=\"0 0 24 24\"\n",
              "       width=\"24px\">\n",
              "    <path d=\"M0 0h24v24H0V0z\" fill=\"none\"/>\n",
              "    <path d=\"M18.56 5.44l.94 2.06.94-2.06 2.06-.94-2.06-.94-.94-2.06-.94 2.06-2.06.94zm-11 1L8.5 8.5l.94-2.06 2.06-.94-2.06-.94L8.5 2.5l-.94 2.06-2.06.94zm10 10l.94 2.06.94-2.06 2.06-.94-2.06-.94-.94-2.06-.94 2.06-2.06.94z\"/><path d=\"M17.41 7.96l-1.37-1.37c-.4-.4-.92-.59-1.43-.59-.52 0-1.04.2-1.43.59L10.3 9.45l-7.72 7.72c-.78.78-.78 2.05 0 2.83L4 21.41c.39.39.9.59 1.41.59.51 0 1.02-.2 1.41-.59l7.78-7.78 2.81-2.81c.8-.78.8-2.07 0-2.86zM5.41 20L4 18.59l7.72-7.72 1.47 1.35L5.41 20z\"/>\n",
              "  </svg>\n",
              "      </button>\n",
              "      \n",
              "  <style>\n",
              "    .colab-df-container {\n",
              "      display:flex;\n",
              "      flex-wrap:wrap;\n",
              "      gap: 12px;\n",
              "    }\n",
              "\n",
              "    .colab-df-convert {\n",
              "      background-color: #E8F0FE;\n",
              "      border: none;\n",
              "      border-radius: 50%;\n",
              "      cursor: pointer;\n",
              "      display: none;\n",
              "      fill: #1967D2;\n",
              "      height: 32px;\n",
              "      padding: 0 0 0 0;\n",
              "      width: 32px;\n",
              "    }\n",
              "\n",
              "    .colab-df-convert:hover {\n",
              "      background-color: #E2EBFA;\n",
              "      box-shadow: 0px 1px 2px rgba(60, 64, 67, 0.3), 0px 1px 3px 1px rgba(60, 64, 67, 0.15);\n",
              "      fill: #174EA6;\n",
              "    }\n",
              "\n",
              "    [theme=dark] .colab-df-convert {\n",
              "      background-color: #3B4455;\n",
              "      fill: #D2E3FC;\n",
              "    }\n",
              "\n",
              "    [theme=dark] .colab-df-convert:hover {\n",
              "      background-color: #434B5C;\n",
              "      box-shadow: 0px 1px 3px 1px rgba(0, 0, 0, 0.15);\n",
              "      filter: drop-shadow(0px 1px 2px rgba(0, 0, 0, 0.3));\n",
              "      fill: #FFFFFF;\n",
              "    }\n",
              "  </style>\n",
              "\n",
              "      <script>\n",
              "        const buttonEl =\n",
              "          document.querySelector('#df-9836f9cc-9d4c-4098-8171-ef0a1a1b0f71 button.colab-df-convert');\n",
              "        buttonEl.style.display =\n",
              "          google.colab.kernel.accessAllowed ? 'block' : 'none';\n",
              "\n",
              "        async function convertToInteractive(key) {\n",
              "          const element = document.querySelector('#df-9836f9cc-9d4c-4098-8171-ef0a1a1b0f71');\n",
              "          const dataTable =\n",
              "            await google.colab.kernel.invokeFunction('convertToInteractive',\n",
              "                                                     [key], {});\n",
              "          if (!dataTable) return;\n",
              "\n",
              "          const docLinkHtml = 'Like what you see? Visit the ' +\n",
              "            '<a target=\"_blank\" href=https://colab.research.google.com/notebooks/data_table.ipynb>data table notebook</a>'\n",
              "            + ' to learn more about interactive tables.';\n",
              "          element.innerHTML = '';\n",
              "          dataTable['output_type'] = 'display_data';\n",
              "          await google.colab.output.renderOutput(dataTable, element);\n",
              "          const docLink = document.createElement('div');\n",
              "          docLink.innerHTML = docLinkHtml;\n",
              "          element.appendChild(docLink);\n",
              "        }\n",
              "      </script>\n",
              "    </div>\n",
              "  </div>\n",
              "  "
            ]
          },
          "metadata": {},
          "execution_count": 118
        }
      ]
    },
    {
      "cell_type": "code",
      "source": [
        "plb.figure(figsize=(8, 4))\n",
        "plb.scatter(X,Y)\n",
        "plb.plot(X, modelo.predict(), color=\"r\")\n",
        "plb.xlabel(\"MPG\")\n",
        "plb.ylabel(\"Peso\")"
      ],
      "metadata": {
        "colab": {
          "base_uri": "https://localhost:8080/",
          "height": 296
        },
        "id": "h4uQzbcsePr4",
        "outputId": "31d85988-be58-4f16-8df2-1bf85224eb9e"
      },
      "execution_count": null,
      "outputs": [
        {
          "output_type": "execute_result",
          "data": {
            "text/plain": [
              "Text(0, 0.5, 'Peso')"
            ]
          },
          "metadata": {},
          "execution_count": 119
        },
        {
          "output_type": "display_data",
          "data": {
            "text/plain": [
              "<Figure size 576x288 with 1 Axes>"
            ],
            "image/png": "[encoded data removed]"
          },
          "metadata": {}
        }
      ]
    },
    {
      "cell_type": "code",
      "source": [],
      "metadata": {
        "id": "hrFSlSt7ePvK"
      },
      "execution_count": null,
      "outputs": []
    }
  ]
}